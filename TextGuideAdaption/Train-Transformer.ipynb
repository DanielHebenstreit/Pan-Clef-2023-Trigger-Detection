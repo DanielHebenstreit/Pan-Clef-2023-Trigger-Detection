{
 "cells": [
  {
   "cell_type": "code",
   "execution_count": 1,
   "id": "6b719bff-5dee-4167-98d4-e906fe7df78f",
   "metadata": {},
   "outputs": [],
   "source": [
    "import numpy as np \n",
    "import pandas as pd \n",
    "from sklearn.metrics import f1_score, accuracy_score"
   ]
  },
  {
   "cell_type": "code",
   "execution_count": null,
   "id": "0a781bb7-8234-40b6-89c5-fc8e0c772b82",
   "metadata": {
    "scrolled": true
   },
   "outputs": [],
   "source": [
    "train = pd.read_pickle('./data/train_cutted_tokenized.pkl')\n",
    "train.drop('text', axis=1, inplace=True)\n",
    "\n",
    "val = pd.read_pickle('./data/val_cutted_tokenized.pkl')\n",
    "val.drop('text', axis=1, inplace=True)\n",
    "\n",
    "train"
   ]
  },
  {
   "cell_type": "code",
   "execution_count": 3,
   "id": "ef4780e2-e367-4b7b-9fb7-6f89e50b3828",
   "metadata": {},
   "outputs": [
    {
     "name": "stdout",
     "output_type": "stream",
     "text": [
      "cuda\n"
     ]
    },
    {
     "name": "stderr",
     "output_type": "stream",
     "text": [
      "C:\\Users\\Anwender\\AppData\\Local\\Temp\\ipykernel_14160\\2426158358.py:14: UserWarning: Creating a tensor from a list of numpy.ndarrays is extremely slow. Please consider converting the list to a single numpy.ndarray with numpy.array() before converting to a tensor. (Triggered internally at ..\\torch\\csrc\\utils\\tensor_new.cpp:248.)\n",
      "  train_masks = torch.tensor(train[\"mask\"]).to(device)\n"
     ]
    }
   ],
   "source": [
    "import torch\n",
    "device = 'cuda' if torch.cuda.is_available() else 'cpu'\n",
    "print(device)\n",
    "fp16 = True if torch.cuda.is_available() else False\n",
    "\n",
    "label_columns = ['pornographic-content', 'violence', 'death', 'sexual-assault', 'abuse', 'blood',\n",
    "                 'suicide', 'pregnancy', 'child-abuse', 'incest', 'underage', 'homophobia',\n",
    "                 'self-harm', 'dying', 'kidnapping', 'mental-illness', 'dissection',\n",
    "                 'eating-disorders', 'abduction', 'body-hatred', 'childbirth', 'racism',\n",
    "                 'sexism', 'miscarriages', 'transphobia', 'abortion', 'fat-phobia',\n",
    "                 'animal-death', 'ableism', 'classism', 'misogyny', 'animal-cruelty']\n",
    "\n",
    "X_train = torch.tensor(train[\"tokens\"]).to(device)\n",
    "train_masks = torch.tensor(train[\"mask\"]).to(device)\n",
    "y_train = torch.tensor(train[label_columns].values, dtype=torch.float32).to(device)\n",
    "\n",
    "X_val = torch.tensor(val[\"tokens\"]).to(device)\n",
    "val_masks = torch.tensor(val[\"mask\"]).to(device)\n",
    "y_val = torch.tensor(val[label_columns].values, dtype=torch.float32).to(device)\n",
    "\n",
    "del train, val"
   ]
  },
  {
   "cell_type": "code",
   "execution_count": 4,
   "id": "ac6ece94-a5d1-45f8-9cd7-045e40ba944f",
   "metadata": {},
   "outputs": [
    {
     "name": "stderr",
     "output_type": "stream",
     "text": [
      "C:\\Users\\Anwender\\AppData\\Local\\Programs\\Python\\Python311\\Lib\\site-packages\\tqdm\\auto.py:21: TqdmWarning: IProgress not found. Please update jupyter and ipywidgets. See https://ipywidgets.readthedocs.io/en/stable/user_install.html\n",
      "  from .autonotebook import tqdm as notebook_tqdm\n",
      "Some weights of BertForSequenceClassification were not initialized from the model checkpoint at bert-base-uncased and are newly initialized: ['classifier.bias', 'classifier.weight']\n",
      "You should probably TRAIN this model on a down-stream task to be able to use it for predictions and inference.\n"
     ]
    },
    {
     "data": {
      "text/plain": [
       "BertForSequenceClassification(\n",
       "  (bert): BertModel(\n",
       "    (embeddings): BertEmbeddings(\n",
       "      (word_embeddings): Embedding(30522, 768, padding_idx=0)\n",
       "      (position_embeddings): Embedding(512, 768)\n",
       "      (token_type_embeddings): Embedding(2, 768)\n",
       "      (LayerNorm): LayerNorm((768,), eps=1e-12, elementwise_affine=True)\n",
       "      (dropout): Dropout(p=0.1, inplace=False)\n",
       "    )\n",
       "    (encoder): BertEncoder(\n",
       "      (layer): ModuleList(\n",
       "        (0-11): 12 x BertLayer(\n",
       "          (attention): BertAttention(\n",
       "            (self): BertSelfAttention(\n",
       "              (query): Linear(in_features=768, out_features=768, bias=True)\n",
       "              (key): Linear(in_features=768, out_features=768, bias=True)\n",
       "              (value): Linear(in_features=768, out_features=768, bias=True)\n",
       "              (dropout): Dropout(p=0.1, inplace=False)\n",
       "            )\n",
       "            (output): BertSelfOutput(\n",
       "              (dense): Linear(in_features=768, out_features=768, bias=True)\n",
       "              (LayerNorm): LayerNorm((768,), eps=1e-12, elementwise_affine=True)\n",
       "              (dropout): Dropout(p=0.1, inplace=False)\n",
       "            )\n",
       "          )\n",
       "          (intermediate): BertIntermediate(\n",
       "            (dense): Linear(in_features=768, out_features=3072, bias=True)\n",
       "            (intermediate_act_fn): GELUActivation()\n",
       "          )\n",
       "          (output): BertOutput(\n",
       "            (dense): Linear(in_features=3072, out_features=768, bias=True)\n",
       "            (LayerNorm): LayerNorm((768,), eps=1e-12, elementwise_affine=True)\n",
       "            (dropout): Dropout(p=0.1, inplace=False)\n",
       "          )\n",
       "        )\n",
       "      )\n",
       "    )\n",
       "    (pooler): BertPooler(\n",
       "      (dense): Linear(in_features=768, out_features=768, bias=True)\n",
       "      (activation): Tanh()\n",
       "    )\n",
       "  )\n",
       "  (dropout): Dropout(p=0.1, inplace=False)\n",
       "  (classifier): Linear(in_features=768, out_features=32, bias=True)\n",
       ")"
      ]
     },
     "execution_count": 4,
     "metadata": {},
     "output_type": "execute_result"
    }
   ],
   "source": [
    "from transformers import AdamW, BigBirdTokenizer ,get_linear_schedule_with_warmup, BigBirdForSequenceClassification, Trainer, TrainingArguments,EvalPrediction, AutoTokenizer, BertForSequenceClassification\n",
    "from torch.utils.data import Dataset, DataLoader\n",
    "\n",
    "model = BertForSequenceClassification.from_pretrained('bert-base-uncased',\n",
    "                gradient_checkpointing=False,\n",
    "                num_labels=32,\n",
    "                problem_type=\"multi_label_classification\",\n",
    "                return_dict=True)\n",
    "\n",
    "model.to(device)"
   ]
  },
  {
   "cell_type": "code",
   "execution_count": 5,
   "id": "a2855e60-9311-46fc-baba-2e400d65f027",
   "metadata": {},
   "outputs": [
    {
     "name": "stdout",
     "output_type": "stream",
     "text": [
      "307102\n",
      "[238075  29114  20785  31320  22186  15099   8208  13649   7183  13492\n",
      "   8904   4945   5241   7498   4482   4171   1708   1209   1060   1365\n",
      "    854    399    533    507    377    344    738    208    267    187\n",
      "    222    150]\n"
     ]
    },
    {
     "data": {
      "text/plain": [
       "ResampleLoss()"
      ]
     },
     "execution_count": 5,
     "metadata": {},
     "output_type": "execute_result"
    }
   ],
   "source": [
    "from util_loss import ResampleLoss\n",
    "from collections import Counter\n",
    "np.set_printoptions(suppress=True)\n",
    "\n",
    "train_num = len(X_train)\n",
    "print(train_num)\n",
    "class_freq = y_train.sum(axis=0).cpu().numpy().astype(int)\n",
    "print(class_freq)\n",
    "\n",
    "loss_func = ResampleLoss(reweight_func='rebalance', loss_weight=1.0,\n",
    "                         focal=dict(focal=True, alpha=0.5, gamma=2),\n",
    "                         logit_reg=dict(init_bias=0.05, neg_scale=2.0),\n",
    "                         map_param=dict(alpha=0.1, beta=10.0, gamma=0.9), \n",
    "                         class_freq=class_freq, train_num=train_num)\n",
    "loss_func"
   ]
  },
  {
   "cell_type": "code",
   "execution_count": null,
   "id": "2e6bda0c-bde2-43c3-ae90-62cc0f29e616",
   "metadata": {},
   "outputs": [
    {
     "name": "stderr",
     "output_type": "stream",
     "text": [
      "Epoch 1/2: 100%|████████████████████████████████████████████████████████████| 19194/19194 [3:41:47<00:00,  1.44batch/s]\n"
     ]
    },
    {
     "name": "stdout",
     "output_type": "stream",
     "text": [
      "Epoch 1/2\n",
      "Train Loss: 0.0014\n",
      "Validation Accuracy: 0.5950\n",
      "Validation F1 Micro: 0.7346\n",
      "Validation F1 Macro: 0.3566\n",
      "---------------------------\n"
     ]
    },
    {
     "name": "stderr",
     "output_type": "stream",
     "text": [
      "Epoch 2/2:   3%|█▊                                                            | 571/19194 [06:31<3:34:45,  1.45batch/s]"
     ]
    }
   ],
   "source": [
    "from tqdm import tqdm\n",
    "import os\n",
    "from torch.cuda.amp import autocast, GradScaler\n",
    "from sklearn.utils import class_weight\n",
    "\n",
    "#batch_size = 16\n",
    "epochs = 2\n",
    "#learning_rate = 2e-5\n",
    "\n",
    "#criterion = torch.nn.BCEWithLogitsLoss()\n",
    "\n",
    "# Convert your PyTorch tensors to DataLoader\n",
    "#train_dataset = torch.utils.data.TensorDataset(X_train, train_masks, y_train)\n",
    "#val_dataset = torch.utils.data.TensorDataset(X_val, val_masks, y_val)\n",
    "#train_loader = DataLoader(train_dataset, batch_size=batch_size, shuffle=True)\n",
    "#val_loader = DataLoader(val_dataset, batch_size=batch_size)\n",
    "\n",
    "#model.load_state_dict(torch.load('saved_models/model_epoch_3.pt')) # load model if wanted\n",
    "\n",
    "#optimizer = AdamW(model.parameters(), lr=learning_rate)\n",
    "#scheduler = get_linear_schedule_with_warmup(optimizer, num_warmup_steps=0, num_training_steps=len(train_loader) * epochs)\n",
    "\n",
    "#save_dir = \"saved_models_db_loss\"\n",
    "#os.makedirs(save_dir, exist_ok=True)\n",
    "\n",
    "#scaler = GradScaler()\n",
    "\n",
    "### code for saving\n",
    "def save_model(model, epoch):\n",
    "    model_save_path = os.path.join(save_dir, f\"model_epoch_{epoch+5}.pt\")\n",
    "    torch.save(model.state_dict(), model_save_path)\n",
    "\n",
    "### code to evaluate model\n",
    "def evaluate(model, val_loader):\n",
    "    model.eval()\n",
    "    all_preds = []\n",
    "    all_labels = []\n",
    "    with torch.no_grad():\n",
    "        for batch in val_loader:\n",
    "            input_ids, attention_mask, labels = batch\n",
    "            outputs = model(input_ids, attention_mask=attention_mask)\n",
    "            logits = outputs.logits\n",
    "            preds = (logits > 0).int()  # Convert logits to binary predictions\n",
    "            all_preds.extend(preds.tolist())\n",
    "            all_labels.extend(labels.tolist())\n",
    "    accuracy = accuracy_score(all_labels, all_preds)\n",
    "    f1_micro = f1_score(all_labels, all_preds, average='micro')\n",
    "    f1_macro = f1_score(all_labels, all_preds, average='macro')\n",
    "    acc = accuracy_score(all_labels, all_preds)\n",
    "    return acc, f1_micro, f1_macro\n",
    "\n",
    "for epoch in range(epochs):\n",
    "    train_loss = 0.0\n",
    "    model.train()\n",
    "    with tqdm(total=len(train_loader), desc=f\"Epoch {epoch + 1}/{epochs}\", unit=\"batch\") as pbar:\n",
    "        for batch in train_loader:\n",
    "            input_ids, attention_mask, labels = batch\n",
    "            optimizer.zero_grad()\n",
    "\n",
    "            outputs = model(input_ids, attention_mask=attention_mask, labels=labels)\n",
    "\n",
    "            loss = loss_func(outputs.logits.view(-1, 32), labels.type_as(outputs.logits).view(-1, 32))\n",
    "            \n",
    "            #loss = criterion(outputs.logits, labels)\n",
    "\n",
    "            scaler.scale(loss).backward()\n",
    "            scaler.step(optimizer)\n",
    "            scaler.update()\n",
    "\n",
    "            train_loss += loss.item()\n",
    "            pbar.update(1)  # Update the progress bar\n",
    "    train_loss /= len(train_loader)\n",
    "    \n",
    "    acc, f1_micro, f1_macr = evaluate(model, val_loader)\n",
    "\n",
    "    save_model(model, epoch + 1)\n",
    "    \n",
    "    print(f\"Epoch {epoch + 1}/{epochs}\")\n",
    "    print(f\"Train Loss: {train_loss:.4f}\")\n",
    "    print(f\"Validation Accuracy: {acc:.4f}\")\n",
    "    print(f\"Validation F1 Micro: {f1_micro:.4f}\")\n",
    "    print(f\"Validation F1 Macro: {f1_macr:.4f}\")\n",
    "    print(\"---------------------------\")\n"
   ]
  },
  {
   "cell_type": "code",
   "execution_count": null,
   "id": "44bb48f8-c869-4300-bdf6-f236cb6f3bc2",
   "metadata": {},
   "outputs": [],
   "source": []
  }
 ],
 "metadata": {
  "kernelspec": {
   "display_name": "Python 3 (ipykernel)",
   "language": "python",
   "name": "python3"
  },
  "language_info": {
   "codemirror_mode": {
    "name": "ipython",
    "version": 3
   },
   "file_extension": ".py",
   "mimetype": "text/x-python",
   "name": "python",
   "nbconvert_exporter": "python",
   "pygments_lexer": "ipython3",
   "version": "3.11.5"
  }
 },
 "nbformat": 4,
 "nbformat_minor": 5
}
