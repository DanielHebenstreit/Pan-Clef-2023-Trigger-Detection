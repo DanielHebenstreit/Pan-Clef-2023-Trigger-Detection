{
 "cells": [
  {
   "cell_type": "code",
   "execution_count": 1,
   "id": "16d734b8-9646-4eb6-bc67-b59916dcf0b1",
   "metadata": {},
   "outputs": [
    {
     "name": "stderr",
     "output_type": "stream",
     "text": [
      "C:\\Users\\Anwender\\AppData\\Local\\Programs\\Python\\Python311\\Lib\\site-packages\\tqdm\\auto.py:21: TqdmWarning: IProgress not found. Please update jupyter and ipywidgets. See https://ipywidgets.readthedocs.io/en/stable/user_install.html\n",
      "  from .autonotebook import tqdm as notebook_tqdm\n"
     ]
    },
    {
     "name": "stdout",
     "output_type": "stream",
     "text": [
      "cuda\n"
     ]
    }
   ],
   "source": [
    "from tqdm import tqdm\n",
    "import jsonlines\n",
    "from datasets import load_dataset\n",
    "import numpy as np \n",
    "import pandas as pd \n",
    "from sklearn.metrics import f1_score, accuracy_score\n",
    "from datasets import load_dataset\n",
    "import torch\n",
    "\n",
    "device = 'cuda' if torch.cuda.is_available() else 'cpu'\n",
    "print(device)\n",
    "fp16 = True if torch.cuda.is_available() else False"
   ]
  },
  {
   "cell_type": "code",
   "execution_count": 2,
   "id": "dd294b8f-8cad-4f9b-b57a-c2a199d120f2",
   "metadata": {},
   "outputs": [],
   "source": [
    "train_output_file_path = \"train_embeddings.jsonl\"\n",
    "val_output_file_path = \"val_embeddings.jsonl\"\n",
    "\n",
    "train = load_dataset(\"json\", data_files=train_output_file_path, streaming=False, split=\"train\")\n",
    "val = load_dataset(\"json\", data_files=val_output_file_path, streaming=False, split=\"train\")"
   ]
  },
  {
   "cell_type": "code",
   "execution_count": 3,
   "id": "e975a11a-1efa-4e61-8057-4f8aa1a49eea",
   "metadata": {},
   "outputs": [
    {
     "name": "stderr",
     "output_type": "stream",
     "text": [
      "100%|█████████████████████████████████████████████████████████████████████████| 307102/307102 [07:37<00:00, 671.34it/s]\n",
      "100%|███████████████████████████████████████████████████████████████████████████| 17104/17104 [00:26<00:00, 639.60it/s]\n"
     ]
    }
   ],
   "source": [
    "train_labels, val_labels = [], []\n",
    "train_max_pooled, val_max_pooled = [], []\n",
    "\n",
    "for document in tqdm(train):\n",
    "    embeddings = torch.tensor(document[\"embeddings\"])\n",
    "    doc_labels = torch.tensor(document[\"labels\"])\n",
    "\n",
    "    emb_max, _ = torch.max(embeddings, dim=0)\n",
    "    #emb = torch.mean(embeddings, dim=0)\n",
    "\n",
    "    train_labels.append(doc_labels)\n",
    "    train_max_pooled.append(emb_max)\n",
    "\n",
    "for document in tqdm(val):\n",
    "    embeddings = torch.tensor(document[\"embeddings\"])\n",
    "    doc_labels = torch.tensor(document[\"labels\"])\n",
    "\n",
    "    emb_max, _ = torch.max(embeddings, dim=0)\n",
    "    #emb = torch.mean(embeddings, dim=0)\n",
    "\n",
    "\n",
    "    val_labels.append(doc_labels)\n",
    "    val_max_pooled.append(emb_max)"
   ]
  },
  {
   "cell_type": "code",
   "execution_count": 4,
   "id": "9e312d8d-4383-4897-a464-f74c95157fac",
   "metadata": {},
   "outputs": [],
   "source": [
    "from torch.utils.data import TensorDataset, DataLoader\n",
    "batch_size = 32\n",
    "train = TensorDataset(torch.stack(train_max_pooled), torch.stack(train_labels))\n",
    "val = TensorDataset(torch.stack(val_max_pooled), torch.stack(val_labels))\n",
    "train_loader = DataLoader(train, batch_size=batch_size)\n",
    "val_loader = DataLoader(val, batch_size=batch_size)"
   ]
  },
  {
   "cell_type": "code",
   "execution_count": 5,
   "id": "0b51114a-ace5-4998-906b-5ff2aaa59128",
   "metadata": {},
   "outputs": [],
   "source": [
    "import torch.nn as nn\n",
    "\n",
    "class CustomMultiLabelClassifier(nn.Module):\n",
    "    def __init__(self, input_size, num_classes):\n",
    "        super(CustomMultiLabelClassifier, self).__init__()\n",
    "        self.fc1 = nn.Linear(input_size, 64)\n",
    "        self.relu1 = nn.ReLU()\n",
    "        #self.fc2 = nn.Linear(512, 256)\n",
    "        #self.relu2 = nn.ReLU()\n",
    "        self.fc3 = nn.Linear(64, num_classes)\n",
    "        #self.sigmoid = nn.Sigmoid()  # For multilabel classification\n",
    "\n",
    "    def forward(self, x):\n",
    "        x = self.fc1(x)\n",
    "        x = self.relu1(x)\n",
    "        #x = self.fc2(x)\n",
    "        #x = self.relu2(x)\n",
    "        x = self.fc3(x)\n",
    "        #x = self.sigmoid(x)\n",
    "        return x"
   ]
  },
  {
   "cell_type": "code",
   "execution_count": 6,
   "id": "92d33c8d-294d-4bc9-8ee0-9a2e5e85af0e",
   "metadata": {},
   "outputs": [
    {
     "name": "stdout",
     "output_type": "stream",
     "text": [
      "307102\n",
      "[92768, 11607, 7541, 12527, 8960, 5859, 2845, 4794, 2845, 5137, 3556, 2094, 1763, 3122, 1798, 1527, 739, 469, 472, 506, 321, 144, 230, 181, 166, 148, 296, 107, 136, 70, 110, 96]\n"
     ]
    },
    {
     "data": {
      "text/plain": [
       "ResampleLoss()"
      ]
     },
     "execution_count": 6,
     "metadata": {},
     "output_type": "execute_result"
    }
   ],
   "source": [
    "from util_loss import ResampleLoss\n",
    "from collections import Counter\n",
    "np.set_printoptions(suppress=True)\n",
    "\n",
    "train_num = len(train)\n",
    "print(train_num)\n",
    "class_freq = [92768, 11607, 7541, 12527, 8960, 5859, 2845, 4794, 2845, 5137, 3556, 2094, 1763, 3122, 1798, 1527, 739, 469, 472, 506, 321, 144, 230, 181, 166, 148, 296, 107, 136, 70, 110, 96]\n",
    "print(class_freq)\n",
    "\n",
    "loss_func = ResampleLoss(reweight_func='rebalance', loss_weight=1.0,\n",
    "                         focal=dict(focal=True, alpha=0.5, gamma=2),\n",
    "                         logit_reg=dict(init_bias=0.05, neg_scale=2.0),\n",
    "                         map_param=dict(alpha=0.1, beta=10.0, gamma=0.9), \n",
    "                         class_freq=class_freq, train_num=train_num)\n",
    "loss_func"
   ]
  },
  {
   "cell_type": "code",
   "execution_count": null,
   "id": "1c84f5e9-ef0a-43e7-9514-394eabbe9d66",
   "metadata": {},
   "outputs": [],
   "source": [
    "model = CustomMultiLabelClassifier(input_size=768, num_classes=32)\n",
    "model.to(device)\n",
    "\n",
    "criterion = torch.nn.BCEWithLogitsLoss()\n",
    "optimizer = torch.optim.Adam(model.parameters(), lr=0.001)\n",
    "\n",
    "def evaluate(model, val_loader):\n",
    "    model.eval()\n",
    "    all_preds = []\n",
    "    all_labels = []\n",
    "    with torch.no_grad():\n",
    "        for inputs, labels in val_loader:\n",
    "            outputs = model(inputs.to(device))\n",
    "            logits = outputs\n",
    "            preds = (logits > 0).int()  # Convert logits to binary predictions\n",
    "            all_preds.extend(preds.tolist())\n",
    "            all_labels.extend(labels.tolist())\n",
    "    accuracy = accuracy_score(all_labels, all_preds)\n",
    "    f1_micro = f1_score(all_labels, all_preds, average='micro')\n",
    "    f1_macro = f1_score(all_labels, all_preds, average='macro')\n",
    "    acc = accuracy_score(all_labels, all_preds)\n",
    "    return acc, f1_micro, f1_macro\n",
    "\n",
    "# Training loop\n",
    "epochs = 15\n",
    "for epoch in range(epochs):   \n",
    "    model.train()\n",
    "    train_loss = 0.0\n",
    "    with tqdm(total=len(train_loader), desc=f\"Epoch {epoch + 1}/{epochs}\", unit=\"batch\") as pbar:\n",
    "        for inputs, labels in train_loader:\n",
    "            optimizer.zero_grad()\n",
    "            outputs = model(inputs.to(device))\n",
    "            \n",
    "            #loss = criterion(outputs, labels.float().to(device))\n",
    "            loss = loss_func(outputs.view(-1, 32), labels.type_as(outputs).view(-1, 32))\n",
    "            \n",
    "            loss.backward()\n",
    "            optimizer.step()\n",
    "\n",
    "            train_loss += loss.item()\n",
    "            pbar.update(1)\n",
    "    \n",
    "    train_loss /= len(train_loader)\n",
    "    acc, f1_micro, f1_macr = evaluate(model, val_loader)\n",
    "\n",
    "    print(f\"Train Loss: {train_loss:.4f}, Validation Accuracy: {acc:.4f}, Validation F1 Micro: {f1_micro:.4f}, Validation F1 Macro: {f1_macr:.4f}\")"
   ]
  }
 ],
 "metadata": {
  "kernelspec": {
   "display_name": "Python 3 (ipykernel)",
   "language": "python",
   "name": "python3"
  },
  "language_info": {
   "codemirror_mode": {
    "name": "ipython",
    "version": 3
   },
   "file_extension": ".py",
   "mimetype": "text/x-python",
   "name": "python",
   "nbconvert_exporter": "python",
   "pygments_lexer": "ipython3",
   "version": "3.11.5"
  }
 },
 "nbformat": 4,
 "nbformat_minor": 5
}
