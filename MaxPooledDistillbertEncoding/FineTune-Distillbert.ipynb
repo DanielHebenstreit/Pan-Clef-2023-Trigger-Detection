{
 "cells": [
  {
   "cell_type": "code",
   "execution_count": 1,
   "id": "6b719bff-5dee-4167-98d4-e906fe7df78f",
   "metadata": {},
   "outputs": [
    {
     "name": "stderr",
     "output_type": "stream",
     "text": [
      "C:\\Users\\Anwender\\AppData\\Local\\Programs\\Python\\Python311\\Lib\\site-packages\\tqdm\\auto.py:21: TqdmWarning: IProgress not found. Please update jupyter and ipywidgets. See https://ipywidgets.readthedocs.io/en/stable/user_install.html\n",
      "  from .autonotebook import tqdm as notebook_tqdm\n"
     ]
    }
   ],
   "source": [
    "import numpy as np \n",
    "import pandas as pd \n",
    "from sklearn.metrics import f1_score, accuracy_score\n",
    "from datasets import load_dataset\n"
   ]
  },
  {
   "cell_type": "code",
   "execution_count": 2,
   "id": "408c6db8-6394-4001-b53d-1c9ce387cf98",
   "metadata": {},
   "outputs": [
    {
     "data": {
      "text/plain": [
       "Dataset({\n",
       "    features: ['pornographic-content', 'violence', 'death', 'sexual-assault', 'abuse', 'blood', 'suicide', 'pregnancy', 'child-abuse', 'incest', 'underage', 'homophobia', 'self-harm', 'dying', 'kidnapping', 'mental-illness', 'dissection', 'eating-disorders', 'abduction', 'body-hatred', 'childbirth', 'racism', 'sexism', 'miscarriages', 'transphobia', 'abortion', 'fat-phobia', 'animal-death', 'ableism', 'classism', 'misogyny', 'animal-cruelty', 'segment', 'attention_mask'],\n",
       "    num_rows: 117824\n",
       "})"
      ]
     },
     "execution_count": 2,
     "metadata": {},
     "output_type": "execute_result"
    }
   ],
   "source": [
    "train = load_dataset(\"json\", \n",
    "                     data_files='./train_preprocessed_segments.jsonl', \n",
    "                     streaming=False, split=\"train\")\n",
    "val = load_dataset(\"json\", \n",
    "                     data_files='./val_preprocessed_segments.jsonl', \n",
    "                     streaming=False, split=\"train\")\n",
    "train\n",
    "val"
   ]
  },
  {
   "cell_type": "code",
   "execution_count": 3,
   "id": "899404f7-e865-408a-8130-2b4dbe6101b8",
   "metadata": {},
   "outputs": [
    {
     "name": "stdout",
     "output_type": "stream",
     "text": [
      "Original dataset size: 2125001\n",
      "Filtered dataset size: 1470507\n"
     ]
    },
    {
     "data": {
      "text/plain": [
       "Dataset({\n",
       "    features: ['pornographic-content', 'violence', 'death', 'sexual-assault', 'abuse', 'blood', 'suicide', 'pregnancy', 'child-abuse', 'incest', 'underage', 'homophobia', 'self-harm', 'dying', 'kidnapping', 'mental-illness', 'dissection', 'eating-disorders', 'abduction', 'body-hatred', 'childbirth', 'racism', 'sexism', 'miscarriages', 'transphobia', 'abortion', 'fat-phobia', 'animal-death', 'ableism', 'classism', 'misogyny', 'animal-cruelty', 'segment', 'attention_mask'],\n",
       "    num_rows: 1470507\n",
       "})"
      ]
     },
     "execution_count": 3,
     "metadata": {},
     "output_type": "execute_result"
    }
   ],
   "source": [
    "import random\n",
    "random.seed(9765)\n",
    "\n",
    "label_columns = ['pornographic-content', 'violence', 'death', 'sexual-assault', 'abuse', 'blood',\n",
    "                 'suicide', 'pregnancy', 'child-abuse', 'incest', 'underage', 'homophobia',\n",
    "                 'self-harm', 'dying', 'kidnapping', 'mental-illness', 'dissection',\n",
    "                 'eating-disorders', 'abduction', 'body-hatred', 'childbirth', 'racism',\n",
    "                 'sexism', 'miscarriages', 'transphobia', 'abortion', 'fat-phobia',\n",
    "                 'animal-death', 'ableism', 'classism', 'misogyny', 'animal-cruelty']\n",
    "\n",
    "label_columns_without_mc = ['violence', 'death', 'sexual-assault', 'abuse', 'blood',\n",
    "                 'suicide', 'pregnancy', 'child-abuse', 'incest', 'underage', 'homophobia',\n",
    "                 'self-harm', 'dying', 'kidnapping', 'mental-illness', 'dissection',\n",
    "                 'eating-disorders', 'abduction', 'body-hatred', 'childbirth', 'racism',\n",
    "                 'sexism', 'miscarriages', 'transphobia', 'abortion', 'fat-phobia',\n",
    "                 'animal-death', 'ableism', 'classism', 'misogyny', 'animal-cruelty']\n",
    "\n",
    "# Define a function to filter the data\n",
    "def filter_data(example):\n",
    "    if example['pornographic-content'] == 1 and sum({key: value for key, value in example.items() if key in label_columns_without_mc}.values()) == 0:\n",
    "        # Randomly keep x% of such examples\n",
    "        return random.random() <= 0.45\n",
    "    # Keep all other rows\n",
    "    return True\n",
    "\n",
    "# Apply the filter function to the dataset\n",
    "filtered_dataset = train.filter(filter_data)\n",
    "\n",
    "# Print some information about the filtered dataset\n",
    "print(f\"Original dataset size: {len(train)}\")\n",
    "print(f\"Filtered dataset size: {len(filtered_dataset)}\")\n",
    "\n",
    "train = filtered_dataset\n",
    "train"
   ]
  },
  {
   "cell_type": "code",
   "execution_count": 4,
   "id": "ef4780e2-e367-4b7b-9fb7-6f89e50b3828",
   "metadata": {},
   "outputs": [
    {
     "name": "stdout",
     "output_type": "stream",
     "text": [
      "cuda\n"
     ]
    }
   ],
   "source": [
    "import torch\n",
    "device = 'cuda' if torch.cuda.is_available() else 'cpu'\n",
    "print(device)\n",
    "fp16 = True if torch.cuda.is_available() else False"
   ]
  },
  {
   "cell_type": "code",
   "execution_count": 5,
   "id": "ac6ece94-a5d1-45f8-9cd7-045e40ba944f",
   "metadata": {},
   "outputs": [
    {
     "name": "stderr",
     "output_type": "stream",
     "text": [
      "Some weights of DistilBertForSequenceClassification were not initialized from the model checkpoint at distilbert-base-uncased and are newly initialized: ['classifier.weight', 'pre_classifier.bias', 'pre_classifier.weight', 'classifier.bias']\n",
      "You should probably TRAIN this model on a down-stream task to be able to use it for predictions and inference.\n"
     ]
    },
    {
     "data": {
      "text/plain": [
       "DistilBertForSequenceClassification(\n",
       "  (distilbert): DistilBertModel(\n",
       "    (embeddings): Embeddings(\n",
       "      (word_embeddings): Embedding(30522, 768, padding_idx=0)\n",
       "      (position_embeddings): Embedding(512, 768)\n",
       "      (LayerNorm): LayerNorm((768,), eps=1e-12, elementwise_affine=True)\n",
       "      (dropout): Dropout(p=0.1, inplace=False)\n",
       "    )\n",
       "    (transformer): Transformer(\n",
       "      (layer): ModuleList(\n",
       "        (0-5): 6 x TransformerBlock(\n",
       "          (attention): MultiHeadSelfAttention(\n",
       "            (dropout): Dropout(p=0.1, inplace=False)\n",
       "            (q_lin): Linear(in_features=768, out_features=768, bias=True)\n",
       "            (k_lin): Linear(in_features=768, out_features=768, bias=True)\n",
       "            (v_lin): Linear(in_features=768, out_features=768, bias=True)\n",
       "            (out_lin): Linear(in_features=768, out_features=768, bias=True)\n",
       "          )\n",
       "          (sa_layer_norm): LayerNorm((768,), eps=1e-12, elementwise_affine=True)\n",
       "          (ffn): FFN(\n",
       "            (dropout): Dropout(p=0.1, inplace=False)\n",
       "            (lin1): Linear(in_features=768, out_features=3072, bias=True)\n",
       "            (lin2): Linear(in_features=3072, out_features=768, bias=True)\n",
       "            (activation): GELUActivation()\n",
       "          )\n",
       "          (output_layer_norm): LayerNorm((768,), eps=1e-12, elementwise_affine=True)\n",
       "        )\n",
       "      )\n",
       "    )\n",
       "  )\n",
       "  (pre_classifier): Linear(in_features=768, out_features=768, bias=True)\n",
       "  (classifier): Linear(in_features=768, out_features=32, bias=True)\n",
       "  (dropout): Dropout(p=0.2, inplace=False)\n",
       ")"
      ]
     },
     "execution_count": 5,
     "metadata": {},
     "output_type": "execute_result"
    }
   ],
   "source": [
    "from transformers import AdamW, BigBirdTokenizer ,get_linear_schedule_with_warmup, BigBirdForSequenceClassification, Trainer, TrainingArguments,EvalPrediction, AutoTokenizer, BertForSequenceClassification, DistilBertForSequenceClassification\n",
    "from torch.utils.data import Dataset, DataLoader\n",
    "\n",
    "model = DistilBertForSequenceClassification.from_pretrained('distilbert-base-uncased',\n",
    "                num_labels=32,\n",
    "                problem_type=\"multi_label_classification\",\n",
    "                return_dict=True)\n",
    "\n",
    "model.to(device)"
   ]
  },
  {
   "cell_type": "code",
   "execution_count": 6,
   "id": "7546b23b-7874-41bd-aeaf-87469555b0ab",
   "metadata": {},
   "outputs": [
    {
     "data": {
      "text/plain": [
       "[92768,\n",
       " 11607,\n",
       " 7541,\n",
       " 12527,\n",
       " 8960,\n",
       " 5859,\n",
       " 2845,\n",
       " 4794,\n",
       " 2845,\n",
       " 5137,\n",
       " 3556,\n",
       " 2094,\n",
       " 1763,\n",
       " 3122,\n",
       " 1798,\n",
       " 1527,\n",
       " 739,\n",
       " 469,\n",
       " 472,\n",
       " 506,\n",
       " 321,\n",
       " 144,\n",
       " 230,\n",
       " 181,\n",
       " 166,\n",
       " 148,\n",
       " 296,\n",
       " 107,\n",
       " 136,\n",
       " 70,\n",
       " 110,\n",
       " 96]"
      ]
     },
     "execution_count": 6,
     "metadata": {},
     "output_type": "execute_result"
    }
   ],
   "source": [
    "class_freq = []\n",
    "for label in label_columns:\n",
    "    class_freq.append(np.sum(val[label]))\n",
    "class_freq"
   ]
  },
  {
   "cell_type": "code",
   "execution_count": 7,
   "id": "a2855e60-9311-46fc-baba-2e400d65f027",
   "metadata": {},
   "outputs": [
    {
     "name": "stdout",
     "output_type": "stream",
     "text": [
      "1470507\n",
      "[92768, 11607, 7541, 12527, 8960, 5859, 2845, 4794, 2845, 5137, 3556, 2094, 1763, 3122, 1798, 1527, 739, 469, 472, 506, 321, 144, 230, 181, 166, 148, 296, 107, 136, 70, 110, 96]\n"
     ]
    },
    {
     "data": {
      "text/plain": [
       "ResampleLoss()"
      ]
     },
     "execution_count": 7,
     "metadata": {},
     "output_type": "execute_result"
    }
   ],
   "source": [
    "from util_loss import ResampleLoss\n",
    "from collections import Counter\n",
    "np.set_printoptions(suppress=True)\n",
    "\n",
    "train_num = len(train)\n",
    "print(train_num)\n",
    "class_freq = class_freq\n",
    "print(class_freq)\n",
    "\n",
    "loss_func = ResampleLoss(reweight_func='rebalance', loss_weight=1.0,\n",
    "                         focal=dict(focal=True, alpha=0.5, gamma=2),\n",
    "                         logit_reg=dict(init_bias=0.05, neg_scale=2.0),\n",
    "                         map_param=dict(alpha=0.1, beta=10.0, gamma=0.9), \n",
    "                         class_freq=class_freq, train_num=train_num)\n",
    "loss_func"
   ]
  },
  {
   "cell_type": "code",
   "execution_count": 8,
   "id": "2e6bda0c-bde2-43c3-ae90-62cc0f29e616",
   "metadata": {},
   "outputs": [
    {
     "name": "stderr",
     "output_type": "stream",
     "text": [
      "C:\\Users\\Anwender\\AppData\\Local\\Programs\\Python\\Python311\\Lib\\site-packages\\transformers\\optimization.py:411: FutureWarning: This implementation of AdamW is deprecated and will be removed in a future version. Use the PyTorch implementation torch.optim.AdamW instead, or set `no_deprecation_warning=True` to disable this warning\n",
      "  warnings.warn(\n",
      "Epoch 1/1: 100%|████████████████████████████████████████████████████████████| 45954/45954 [9:08:31<00:00,  1.40batch/s]\n"
     ]
    },
    {
     "name": "stdout",
     "output_type": "stream",
     "text": [
      "Epoch 1/1\n",
      "Train Loss: 0.0031\n",
      "Validation Accuracy: 0.5203\n",
      "Validation F1 Micro: 0.6912\n",
      "Validation F1 Macro: 0.2685\n",
      "---------------------------\n"
     ]
    }
   ],
   "source": [
    "from tqdm import tqdm\n",
    "import os\n",
    "from torch.cuda.amp import autocast, GradScaler\n",
    "from sklearn.utils import class_weight\n",
    "\n",
    "batch_size = 32\n",
    "epochs = 1\n",
    "learning_rate = 2e-5\n",
    "\n",
    "#criterion = torch.nn.BCEWithLogitsLoss()\n",
    "\n",
    "# Convert your PyTorch tensors to DataLoader\n",
    "train_loader = DataLoader(train, batch_size=batch_size)\n",
    "val_loader = DataLoader(val, batch_size=batch_size)\n",
    "\n",
    "model.load_state_dict(torch.load('saved_models_db_loss/model_epoch_1.pt')) # load model if wanted\n",
    "\n",
    "optimizer = AdamW(model.parameters(), lr=learning_rate)\n",
    "scheduler = get_linear_schedule_with_warmup(optimizer, num_warmup_steps=0, num_training_steps=len(train_loader) * epochs)\n",
    "\n",
    "save_dir = \"saved_models_db_loss\"\n",
    "os.makedirs(save_dir, exist_ok=True)\n",
    "\n",
    "scaler = GradScaler()\n",
    "\n",
    "### code for saving\n",
    "def save_model(model, epoch):\n",
    "    model_save_path = os.path.join(save_dir, f\"model_epoch_{epoch + 1}.pt\")\n",
    "    torch.save(model.state_dict(), model_save_path)\n",
    "\n",
    "### code to evaluate model\n",
    "def evaluate(model, val_loader):\n",
    "    model.eval()\n",
    "    all_preds = []\n",
    "    all_labels = []\n",
    "    with torch.no_grad():\n",
    "        for batch in val_loader:\n",
    "            input_ids = torch.stack(batch['segment'], dim=1).to(device)\n",
    "            attention_mask = torch.stack(batch['attention_mask'], dim=1).to(device)\n",
    "            labels = torch.stack([label_tensor for label_tensor in {key: value for key, value in batch.items() if key in label_columns}.values()], dim=1).float().to(device)\n",
    "\n",
    "            outputs = model(input_ids, attention_mask=attention_mask)\n",
    "            logits = outputs.logits\n",
    "            preds = (logits > 0).int()  # Convert logits to binary predictions\n",
    "            all_preds.extend(preds.tolist())\n",
    "            all_labels.extend(labels.tolist())\n",
    "    accuracy = accuracy_score(all_labels, all_preds)\n",
    "    f1_micro = f1_score(all_labels, all_preds, average='micro')\n",
    "    f1_macro = f1_score(all_labels, all_preds, average='macro')\n",
    "    acc = accuracy_score(all_labels, all_preds)\n",
    "    return acc, f1_micro, f1_macro\n",
    "\n",
    "for epoch in range(epochs):\n",
    "    train_loss = 0.0\n",
    "    model.train()\n",
    "    \n",
    "    with tqdm(total=len(train_loader), desc=f\"Epoch {epoch + 1}/{epochs}\", unit=\"batch\") as pbar:\n",
    "        for batch in train_loader:\n",
    "            input_ids = torch.stack(batch['segment'], dim=1).to(device)\n",
    "            attention_mask = torch.stack(batch['attention_mask'], dim=1).to(device)\n",
    "            labels = torch.stack([label_tensor for label_tensor in {key: value for key, value in batch.items() if key in label_columns}.values()], dim=1).float().to(device)\n",
    "            \n",
    "            optimizer.zero_grad()\n",
    "\n",
    "            outputs = model(input_ids, attention_mask=attention_mask, labels=labels)\n",
    "\n",
    "            loss = loss_func(outputs.logits.view(-1, 32), labels.type_as(outputs.logits).view(-1, 32))\n",
    "            \n",
    "            #loss = criterion(outputs.logits, labels)\n",
    "\n",
    "            scaler.scale(loss).backward()\n",
    "            scaler.step(optimizer)\n",
    "            scaler.update()\n",
    "\n",
    "            train_loss += loss.item()\n",
    "            pbar.update(1)  # Update the progress bar\n",
    "    train_loss /= len(train_loader)\n",
    "    \n",
    "    acc, f1_micro, f1_macr = evaluate(model, val_loader)\n",
    "\n",
    "    save_model(model, epoch + 1)\n",
    "    \n",
    "    print(f\"Epoch {epoch + 1}/{epochs}\")\n",
    "    print(f\"Train Loss: {train_loss:.4f}\")\n",
    "    print(f\"Validation Accuracy: {acc:.4f}\")\n",
    "    print(f\"Validation F1 Micro: {f1_micro:.4f}\")\n",
    "    print(f\"Validation F1 Macro: {f1_macr:.4f}\")\n",
    "    print(\"---------------------------\")\n"
   ]
  }
 ],
 "metadata": {
  "kernelspec": {
   "display_name": "Python 3 (ipykernel)",
   "language": "python",
   "name": "python3"
  },
  "language_info": {
   "codemirror_mode": {
    "name": "ipython",
    "version": 3
   },
   "file_extension": ".py",
   "mimetype": "text/x-python",
   "name": "python",
   "nbconvert_exporter": "python",
   "pygments_lexer": "ipython3",
   "version": "3.11.5"
  }
 },
 "nbformat": 4,
 "nbformat_minor": 5
}
